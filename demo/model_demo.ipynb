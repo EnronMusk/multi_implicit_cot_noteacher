{
 "cells": [
  {
   "cell_type": "markdown",
   "metadata": {},
   "source": [
    "# **Multi-inference implicit chain of reasoning demonstration**\n",
    "\n",
    "In this notebook I attempt to solve this challenge [here](https://yuntiandeng.com/cv/challenge.png) by referencing the research paper and source code linked below. We are are trying to create a LLM that can solve simultaneous 2 digit by 2 digit multiplication using implicit chain of thought reasoning. \n",
    "\n",
    "| ||\n",
    "|----------|----------|\n",
    "| Research Credit | [here](https://arxiv.org/pdf/2311.01460.pdf) |\n",
    "| Code Inspiration Credit | [github](https://github.com/da03/implicit_chain_of_thought/tree/main) |\n",
    "\n",
    "- First we train a teacher model to explicity use chain of thought to solve simultaneous 2 digit by 2 digit multiplication. \n",
    "- Then we have a thought emulator model to predict teacher states from input. \n",
    "- We have a mind reader emulator that predicts the final output from teacher states. \n",
    "- Finally we create the implicit student model, which trains using pre-trained thought and mindreader emulators simultaneously to implicity use CoT to predict the output from the input."
   ]
  },
  {
   "cell_type": "code",
   "execution_count": 1,
   "metadata": {},
   "outputs": [],
   "source": [
    "import sys\n",
    "import os\n",
    "\n",
    "#For safe imports of everything\n",
    "notebook_directory = os.getcwd()\n",
    "parent_directory = os.path.dirname(notebook_directory)\n",
    "sys.path.insert(False, parent_directory)"
   ]
  },
  {
   "cell_type": "markdown",
   "metadata": {},
   "source": [
    "### **Dataset Generation**\n",
    "Here we generate our test and train data. We generate our training data randomly such that it represents less than **1%** of possible observations. We also generate our tokenized data automatically here as well.\n",
    "\n",
    "---\n",
    "\n",
    "The format of training and test datasets follow this format:\n",
    "\n",
    "```\n",
    "[input 1a] $ [input 1b]||[CoT 1a] $ [CoT 1b] #### [output 1a] $ [output 1b]\n",
    "[input 2a] $ [input 2b]||[CoT 2a] $ [CoT 2b] #### [output 2a] $ [output 2b]\n",
    "[input 3a] $ [input 3b]||[CoT 3a] $ [CoT 3b] #### [output 3a] $ [output 3b]\n",
    "```\n",
    "\n",
    "We can also test any particular case using the DatasetHandler so we create a custom prediction dataset as well.\n",
    "\n",
    "**NOTE** The `DatasetHandler` class has a method `generateDataset`, which may be used to create new randomly generated datasets."
   ]
  },
  {
   "cell_type": "code",
   "execution_count": 2,
   "metadata": {},
   "outputs": [],
   "source": [
    "from data.data import DatasetHandler\n",
    "\n",
    "training_data_size = 777000\n",
    "test_data_size = 77000\n",
    "\n",
    "datahandler_train = DatasetHandler(parent_path = parent_directory, max_len = 1024, type = 'train')\n",
    "datahandler_test = DatasetHandler(parent_path = parent_directory, max_len = 1024, type = 'test')"
   ]
  },
  {
   "cell_type": "markdown",
   "metadata": {},
   "source": [
    "Now we read datasets for each handler. There is also code to generate a new dataset with the same size used in this demo."
   ]
  },
  {
   "cell_type": "code",
   "execution_count": 3,
   "metadata": {},
   "outputs": [
    {
     "name": "stdout",
     "output_type": "stream",
     "text": [
      "Creating tokenized features from dataset file at c:\\Users\\Luke\\multi_implicit_cot\\data\\raw_train_dataset.txt\n",
      "tgt_avg:  20.0\n",
      "src_avg:  12.0\n",
      "ratios:  0.6\n",
      "tgt_avg:  14.0\n",
      "src_avg:  12.0\n",
      "ratios:  0.8571428571428571\n",
      "---------------------------\n",
      "Example features:\n",
      "Full entry:  7 4 * 7 8 $ 8 1 * 5 4 <|endoftext|> 9 2 3 + 0 6 7 3 $ 0 9 0 + 0 2 7 0 <|endoftext|> #### 9 8 0 4 $ 0 1 8 0 <|endoftext|>\n",
      "No CoT:  7 4 * 7 8 $ 8 1 * 5 4 <|endoftext|> #### 9 8 0 4 $ 0 1 8 0 <|endoftext|>\n",
      "Only CoT:  7 4 * 7 8 $ 8 1 * 5 4 <|endoftext|> 9 2 3 + 0 6 7 3 $ 0 9 0 + 0 2 7 0 <|endoftext|>\n",
      "Product input:  7 4 * 7 8 $ 8 1 * 5 4 <|endoftext|> \n",
      "---------------------------\n"
     ]
    }
   ],
   "source": [
    "#datahandler_train.generateDataset(size = training_data_size)\n",
    "\n",
    "datahandler_train.readDataset()"
   ]
  },
  {
   "cell_type": "code",
   "execution_count": 4,
   "metadata": {},
   "outputs": [
    {
     "name": "stdout",
     "output_type": "stream",
     "text": [
      "Creating tokenized features from dataset file at c:\\Users\\Luke\\multi_implicit_cot\\data\\raw_test_dataset.txt\n",
      "tgt_avg:  20.0\n",
      "src_avg:  12.0\n",
      "ratios:  0.6\n",
      "tgt_avg:  14.0\n",
      "src_avg:  12.0\n",
      "ratios:  0.8571428571428571\n",
      "---------------------------\n",
      "Example features:\n",
      "Full entry:  3 6 * 1 6 $ 9 0 * 2 5 <|endoftext|> 3 6 0 + 0 8 7 3 $ 8 1 0 + 0 5 4 0 <|endoftext|> #### 3 4 8 3 $ 8 6 4 0 <|endoftext|>\n",
      "No CoT:  3 6 * 1 6 $ 9 0 * 2 5 <|endoftext|> #### 3 4 8 3 $ 8 6 4 0 <|endoftext|>\n",
      "Only CoT:  3 6 * 1 6 $ 9 0 * 2 5 <|endoftext|> 3 6 0 + 0 8 7 3 $ 8 1 0 + 0 5 4 0 <|endoftext|>\n",
      "Product input:  3 6 * 1 6 $ 9 0 * 2 5 <|endoftext|> \n",
      "---------------------------\n"
     ]
    }
   ],
   "source": [
    "#datahandler_test.generateDataset(size = test_data_size)\n",
    "\n",
    "datahandler_test.readDataset()"
   ]
  },
  {
   "cell_type": "markdown",
   "metadata": {},
   "source": [
    "Here we allow the creation of a **custom prediction** using input from the jupyter kernel, press enter after each integer. The custom prediction is of the form **a*b** and **c*d**."
   ]
  },
  {
   "cell_type": "code",
   "execution_count": 5,
   "metadata": {},
   "outputs": [
    {
     "name": "stdout",
     "output_type": "stream",
     "text": [
      "You have provided the input 12*79 and 35*93 which equals 948 and 3255 respectively.\n",
      "Generated raw custom dataset saved at c:\\Users\\Luke\\multi_implicit_cot\\data\\raw_custom_dataset.txt of size 1.\n",
      "Creating tokenized features from dataset file at c:\\Users\\Luke\\multi_implicit_cot\\data\\raw_custom_dataset.txt\n",
      "tgt_avg:  20.0\n",
      "src_avg:  12.0\n",
      "ratios:  0.6\n",
      "tgt_avg:  14.0\n",
      "src_avg:  12.0\n",
      "ratios:  0.8571428571428571\n",
      "---------------------------\n",
      "Example features:\n",
      "Full entry:  2 1 * 9 7 $ 5 3 * 3 9 <|endoftext|> 8 0 1 + 0 4 8 0 $ 5 0 1 + 0 5 1 3 <|endoftext|> #### 8 4 9 0 $ 5 5 2 3 <|endoftext|>\n",
      "No CoT:  2 1 * 9 7 $ 5 3 * 3 9 <|endoftext|> #### 8 4 9 0 $ 5 5 2 3 <|endoftext|>\n",
      "Only CoT:  2 1 * 9 7 $ 5 3 * 3 9 <|endoftext|> 8 0 1 + 0 4 8 0 $ 5 0 1 + 0 5 1 3 <|endoftext|>\n",
      "Product input:  2 1 * 9 7 $ 5 3 * 3 9 <|endoftext|> \n",
      "---------------------------\n"
     ]
    }
   ],
   "source": [
    "#Please provide inputs for the custom test case. Press enter after each integer.\n",
    "a= int(input(\"provide int a: \"))\n",
    "b= int(input(\"provide int b: \"))\n",
    "c= int(input(\"provide int c: \"))\n",
    "d= int(input(\"provide int d: \"))\n",
    "\n",
    "print(f\"You have provided the input {a}*{b} and {c}*{d} which equals {a*b} and {c*d} respectively.\")\n",
    "\n",
    "custom_prediction = DatasetHandler(parent_path = parent_directory, max_len = 1024, type = 'custom')\n",
    "custom_prediction.generateDataset(a=a, b=b, c=c, d=d)"
   ]
  },
  {
   "cell_type": "markdown",
   "metadata": {},
   "source": [
    "### **Model Training**\n",
    "Here we begin training our individual models. First we import everything we need.\n",
    "\n",
    "---\n"
   ]
  },
  {
   "cell_type": "code",
   "execution_count": 6,
   "metadata": {},
   "outputs": [],
   "source": [
    "from source.teacher import Teacher\n",
    "from source.configurations import TeacherConfig\n",
    "\n",
    "from source.thought_emulator import ThoughtEmulator\n",
    "from source.configurations import ThoughtEmulatorConfig\n",
    "\n",
    "from source.mindreading_emulator import MindReadingEmulator\n",
    "from source.configurations import MindReadingEmulatorConfig\n",
    "\n",
    "from source.implicit_student import ImplicitStudent"
   ]
  },
  {
   "cell_type": "markdown",
   "metadata": {},
   "source": [
    "Now we initialize the configurations and models."
   ]
  },
  {
   "cell_type": "code",
   "execution_count": 7,
   "metadata": {},
   "outputs": [],
   "source": [
    "teacher_config = TeacherConfig()\n",
    "teacher_model = Teacher(teacher_config)\n",
    "\n",
    "t_emulator_config = ThoughtEmulatorConfig()\n",
    "t_emulator_model = ThoughtEmulator(t_emulator_config, teacher_model)\n",
    "\n",
    "mr_emulator_config = MindReadingEmulatorConfig()\n",
    "mr_emulator_model = MindReadingEmulator(mr_emulator_config, teacher_model)\n",
    "\n",
    "implicit_model = ImplicitStudent(mr_emulator_config, mindread = mr_emulator_model, thought = t_emulator_model)"
   ]
  },
  {
   "cell_type": "markdown",
   "metadata": {},
   "source": [
    "##### **Teacher Model**\n",
    "This model takes in inputs and generates a CoT and product as output.\n",
    "\n",
    "**NOTE** The training accuracy approaches 1 very rapidly, however this is not due to overfitting. Lowering the learning rate significantly reduced test accuracy."
   ]
  },
  {
   "cell_type": "code",
   "execution_count": 8,
   "metadata": {},
   "outputs": [
    {
     "name": "stderr",
     "output_type": "stream",
     "text": [
      "  0%|          | 1/24282 [00:01<10:17:39,  1.53s/it]"
     ]
    },
    {
     "name": "stdout",
     "output_type": "stream",
     "text": [
      "Step: 0. PPL: 105.336227. Training Accuracy: 0.136719\n"
     ]
    },
    {
     "name": "stderr",
     "output_type": "stream",
     "text": [
      " 10%|█         | 2430/24282 [11:55<1:44:45,  3.48it/s]"
     ]
    },
    {
     "name": "stdout",
     "output_type": "stream",
     "text": [
      "Step: 2429. PPL: 1.025135. Training Accuracy: 0.995117\n"
     ]
    },
    {
     "name": "stderr",
     "output_type": "stream",
     "text": [
      " 20%|██        | 4859/24282 [23:49<1:33:13,  3.47it/s]"
     ]
    },
    {
     "name": "stdout",
     "output_type": "stream",
     "text": [
      "Step: 4858. PPL: 1.003225. Training Accuracy: 0.999023\n"
     ]
    },
    {
     "name": "stderr",
     "output_type": "stream",
     "text": [
      " 30%|███       | 7288/24282 [35:35<1:21:18,  3.48it/s]"
     ]
    },
    {
     "name": "stdout",
     "output_type": "stream",
     "text": [
      "Step: 7287. PPL: 1.000126. Training Accuracy: 1.000000\n"
     ]
    },
    {
     "name": "stderr",
     "output_type": "stream",
     "text": [
      " 40%|████      | 9717/24282 [47:33<1:17:32,  3.13it/s]"
     ]
    },
    {
     "name": "stdout",
     "output_type": "stream",
     "text": [
      "Step: 9716. PPL: 1.001468. Training Accuracy: 0.999023\n"
     ]
    },
    {
     "name": "stderr",
     "output_type": "stream",
     "text": [
      " 50%|█████     | 12146/24282 [59:48<58:23,  3.46it/s]  "
     ]
    },
    {
     "name": "stdout",
     "output_type": "stream",
     "text": [
      "Step: 12145. PPL: 1.000102. Training Accuracy: 1.000000\n"
     ]
    },
    {
     "name": "stderr",
     "output_type": "stream",
     "text": [
      " 60%|██████    | 14575/24282 [1:11:44<48:51,  3.31it/s]  "
     ]
    },
    {
     "name": "stdout",
     "output_type": "stream",
     "text": [
      "Step: 14574. PPL: 1.000131. Training Accuracy: 1.000000\n"
     ]
    },
    {
     "name": "stderr",
     "output_type": "stream",
     "text": [
      " 70%|███████   | 17004/24282 [1:23:56<37:01,  3.28it/s]"
     ]
    },
    {
     "name": "stdout",
     "output_type": "stream",
     "text": [
      "Step: 17003. PPL: 1.000098. Training Accuracy: 1.000000\n"
     ]
    },
    {
     "name": "stderr",
     "output_type": "stream",
     "text": [
      " 80%|████████  | 19433/24282 [1:36:06<23:15,  3.48it/s]"
     ]
    },
    {
     "name": "stdout",
     "output_type": "stream",
     "text": [
      "Step: 19432. PPL: 1.000454. Training Accuracy: 1.000000\n"
     ]
    },
    {
     "name": "stderr",
     "output_type": "stream",
     "text": [
      " 90%|█████████ | 21862/24282 [1:48:29<13:13,  3.05it/s]"
     ]
    },
    {
     "name": "stdout",
     "output_type": "stream",
     "text": [
      "Step: 21861. PPL: 1.000006. Training Accuracy: 1.000000\n"
     ]
    },
    {
     "name": "stderr",
     "output_type": "stream",
     "text": [
      "100%|██████████| 24282/24282 [2:00:24<00:00,  3.36it/s]\n"
     ]
    },
    {
     "name": "stdout",
     "output_type": "stream",
     "text": [
      "✔ Evaluating test dataset now...\n"
     ]
    },
    {
     "name": "stderr",
     "output_type": "stream",
     "text": [
      "100%|██████████| 2407/2407 [18:21<00:00,  2.19it/s]"
     ]
    },
    {
     "name": "stdout",
     "output_type": "stream",
     "text": [
      "Input:  3 4 * 9 1 $ 7 3 * 1 3 \n",
      "Target:  7 8 3 + 0 3 4 0 $ 7 3 0 + 0 1 1 1  #### 7 1 8 0 $ 7 4 1 1 \n",
      "Predicted:  7 8 3 + 0 3 4 0 $ 7 3 0 + 0 1 1 1  #### 7 1 8 0 $ 7 4 1 1 \n",
      "\n",
      "Input:  5 4 * 8 8 $ 2 6 * 9 8 \n",
      "Target:  0 6 3 + 0 0 6 3 $ 8 5 5 + 0 6 9 4  #### 0 6 9 3 $ 8 1 5 5 \n",
      "Predicted:  0 6 3 + 0 0 6 3 $ 8 5 5 + 0 6 9 4  #### 0 6 9 3 $ 8 1 5 5 \n",
      "\n",
      "Input:  9 7 * 5 3 $ 0 3 * 3 1 \n",
      "Target:  5 9 3 + 0 7 3 2 $ 0 9 0 + 0 0 3 0  #### 5 6 7 2 $ 0 9 3 0 \n",
      "Predicted:  5 9 3 + 0 7 3 2 $ 0 9 0 + 0 0 3 0  #### 5 6 7 2 $ 0 9 3 0 \n",
      "\n",
      "→ Perplexitity: 1.000465; Test Accuracy: 0.997169; Training Accuracy: 0.999882.\n",
      "Saving to c:\\Users\\Luke\\multi_implicit_cot\\models\\teacher\n"
     ]
    },
    {
     "name": "stderr",
     "output_type": "stream",
     "text": [
      "\n"
     ]
    },
    {
     "data": {
      "image/png": "[encoded data removed]",
      "text/plain": [
       "<Figure size 640x480 with 1 Axes>"
      ]
     },
     "metadata": {},
     "output_type": "display_data"
    },
    {
     "data": {
      "image/png": "[encoded data removed]",
      "text/plain": [
       "<Figure size 640x480 with 1 Axes>"
      ]
     },
     "metadata": {},
     "output_type": "display_data"
    }
   ],
   "source": [
    "teacher_model.trainModel(train_handler = datahandler_train, test_handler = datahandler_test, limit = 1) "
   ]
  },
  {
   "cell_type": "markdown",
   "metadata": {},
   "source": [
    "##### **Thought Emulator Model**\n",
    "This model takes the input and predicts the teacher states. We calculate a proxy for accuracy by taking the mean difference in layer states between the teacher model and itself."
   ]
  },
  {
   "cell_type": "code",
   "execution_count": 9,
   "metadata": {},
   "outputs": [
    {
     "name": "stderr",
     "output_type": "stream",
     "text": [
      "  0%|          | 1/24282 [00:01<6:54:46,  1.02s/it]"
     ]
    },
    {
     "name": "stdout",
     "output_type": "stream",
     "text": [
      "Step: 0. Loss: 6259.699219. Quasi Training Accuracy: 0.215735.\n"
     ]
    },
    {
     "name": "stderr",
     "output_type": "stream",
     "text": [
      " 10%|█         | 2430/24282 [13:21<2:04:57,  2.91it/s]"
     ]
    },
    {
     "name": "stdout",
     "output_type": "stream",
     "text": [
      "Step: 2429. Loss: 116.295235. Quasi Training Accuracy: 0.903181.\n"
     ]
    },
    {
     "name": "stderr",
     "output_type": "stream",
     "text": [
      " 20%|██        | 4859/24282 [26:55<1:51:29,  2.90it/s]"
     ]
    },
    {
     "name": "stdout",
     "output_type": "stream",
     "text": [
      "Step: 4858. Loss: 43.889332. Quasi Training Accuracy: 0.938511.\n"
     ]
    },
    {
     "name": "stderr",
     "output_type": "stream",
     "text": [
      " 30%|███       | 7288/24282 [40:46<1:36:41,  2.93it/s]"
     ]
    },
    {
     "name": "stdout",
     "output_type": "stream",
     "text": [
      "Step: 7287. Loss: 21.246279. Quasi Training Accuracy: 0.955154.\n"
     ]
    },
    {
     "name": "stderr",
     "output_type": "stream",
     "text": [
      " 40%|████      | 9717/24282 [54:33<1:19:33,  3.05it/s]"
     ]
    },
    {
     "name": "stdout",
     "output_type": "stream",
     "text": [
      "Step: 9716. Loss: 14.471191. Quasi Training Accuracy: 0.962587.\n"
     ]
    },
    {
     "name": "stderr",
     "output_type": "stream",
     "text": [
      " 50%|█████     | 12146/24282 [1:08:07<1:07:23,  3.00it/s]"
     ]
    },
    {
     "name": "stdout",
     "output_type": "stream",
     "text": [
      "Step: 12145. Loss: 11.901533. Quasi Training Accuracy: 0.966272.\n"
     ]
    },
    {
     "name": "stderr",
     "output_type": "stream",
     "text": [
      " 60%|██████    | 14575/24282 [1:21:47<55:32,  2.91it/s]  "
     ]
    },
    {
     "name": "stdout",
     "output_type": "stream",
     "text": [
      "Step: 14574. Loss: 8.915899. Quasi Training Accuracy: 0.970410.\n"
     ]
    },
    {
     "name": "stderr",
     "output_type": "stream",
     "text": [
      " 70%|███████   | 17004/24282 [1:35:33<43:56,  2.76it/s]"
     ]
    },
    {
     "name": "stdout",
     "output_type": "stream",
     "text": [
      "Step: 17003. Loss: 8.424360. Quasi Training Accuracy: 0.972164.\n"
     ]
    },
    {
     "name": "stderr",
     "output_type": "stream",
     "text": [
      " 80%|████████  | 19433/24282 [1:49:13<26:54,  3.00it/s]"
     ]
    },
    {
     "name": "stdout",
     "output_type": "stream",
     "text": [
      "Step: 19432. Loss: 6.073866. Quasi Training Accuracy: 0.974922.\n"
     ]
    },
    {
     "name": "stderr",
     "output_type": "stream",
     "text": [
      " 90%|█████████ | 21862/24282 [2:02:53<13:20,  3.02it/s]"
     ]
    },
    {
     "name": "stdout",
     "output_type": "stream",
     "text": [
      "Step: 21861. Loss: 6.982386. Quasi Training Accuracy: 0.975116.\n"
     ]
    },
    {
     "name": "stderr",
     "output_type": "stream",
     "text": [
      "100%|██████████| 24282/24282 [2:16:33<00:00,  2.96it/s]\n"
     ]
    },
    {
     "name": "stdout",
     "output_type": "stream",
     "text": [
      "✔ Evaluating test dataset now...\n"
     ]
    },
    {
     "name": "stderr",
     "output_type": "stream",
     "text": [
      "100%|██████████| 2407/2407 [04:10<00:00,  9.59it/s]\n"
     ]
    },
    {
     "name": "stdout",
     "output_type": "stream",
     "text": [
      "Input:  0 9 * 9 5 $ 5 5 * 4 2  \n",
      "Target H. Layer 1, V. Layer 1, first 9 states:\n",
      "[ 0.437  -0.0778  0.8803 -0.308  -0.3055  0.2395 -1.2577 -0.3027 -0.4781]\n",
      "Predicted H. Layer 1, V. Layer 1, first 9 states: \n",
      "[ 0.4359 -0.0745  0.8794 -0.3069 -0.3062  0.2379 -1.2589 -0.3041 -0.4758]\n",
      "\n",
      "Input:  0 9 * 9 5 $ 5 5 * 4 2  \n",
      "Target H. Layer 1, V. Layer 1, first 9 states:\n",
      "[ 0.437  -0.0778  0.8803 -0.308  -0.3055  0.2395 -1.2577 -0.3027 -0.4781]\n",
      "Predicted H. Layer 1, V. Layer 1, first 9 states: \n",
      "[ 0.4359 -0.0745  0.8794 -0.3069 -0.3062  0.2379 -1.2589 -0.3041 -0.4758]\n",
      "\n",
      "Input:  0 9 * 9 5 $ 5 5 * 4 2  \n",
      "Target H. Layer 1, V. Layer 1, first 9 states:\n",
      "[ 0.437  -0.0778  0.8803 -0.308  -0.3055  0.2395 -1.2577 -0.3027 -0.4781]\n",
      "Predicted H. Layer 1, V. Layer 1, first 9 states: \n",
      "[ 0.4359 -0.0745  0.8794 -0.3069 -0.3062  0.2379 -1.2589 -0.3041 -0.4758]\n",
      "\n",
      "→ Loss: 4.369609; Quasi Test Accuracy: 0.977900; Quasi Training Accuracy: 0.977773.\n",
      "Saving to c:\\Users\\Luke\\multi_implicit_cot\\models\\thought_emulator\n"
     ]
    },
    {
     "data": {
      "image/png": "[encoded data removed]",
      "text/plain": [
       "<Figure size 640x480 with 1 Axes>"
      ]
     },
     "metadata": {},
     "output_type": "display_data"
    },
    {
     "data": {
      "image/png": "[encoded data removed]",
      "text/plain": [
       "<Figure size 640x480 with 1 Axes>"
      ]
     },
     "metadata": {},
     "output_type": "display_data"
    }
   ],
   "source": [
    "t_emulator_model.trainModel(train_handler = datahandler_train, test_handler = datahandler_test, limit = 1)"
   ]
  },
  {
   "cell_type": "markdown",
   "metadata": {},
   "source": [
    "##### **Mind Reading Emulator Model**\n",
    "This model takes in the teacher states as input and predicts the output."
   ]
  },
  {
   "cell_type": "code",
   "execution_count": 10,
   "metadata": {},
   "outputs": [
    {
     "name": "stderr",
     "output_type": "stream",
     "text": [
      "  0%|          | 1/24282 [00:00<3:52:43,  1.74it/s]"
     ]
    },
    {
     "name": "stdout",
     "output_type": "stream",
     "text": [
      "Step: 0. CrossEntropyLoss: 6.160822. Training Accuracy: 0.016827.\n"
     ]
    },
    {
     "name": "stderr",
     "output_type": "stream",
     "text": [
      " 10%|█         | 2430/24282 [14:36<2:10:12,  2.80it/s]"
     ]
    },
    {
     "name": "stdout",
     "output_type": "stream",
     "text": [
      "Step: 2429. CrossEntropyLoss: 0.172473. Training Accuracy: 0.925481.\n"
     ]
    },
    {
     "name": "stderr",
     "output_type": "stream",
     "text": [
      " 20%|██        | 4859/24282 [29:00<1:59:27,  2.71it/s]"
     ]
    },
    {
     "name": "stdout",
     "output_type": "stream",
     "text": [
      "Step: 4858. CrossEntropyLoss: 0.025248. Training Accuracy: 0.992788.\n"
     ]
    },
    {
     "name": "stderr",
     "output_type": "stream",
     "text": [
      " 30%|███       | 7288/24282 [43:37<1:44:54,  2.70it/s]"
     ]
    },
    {
     "name": "stdout",
     "output_type": "stream",
     "text": [
      "Step: 7287. CrossEntropyLoss: 0.007354. Training Accuracy: 0.997596.\n"
     ]
    },
    {
     "name": "stderr",
     "output_type": "stream",
     "text": [
      " 40%|████      | 9717/24282 [57:44<1:24:34,  2.87it/s]"
     ]
    },
    {
     "name": "stdout",
     "output_type": "stream",
     "text": [
      "Step: 9716. CrossEntropyLoss: 0.003350. Training Accuracy: 0.997596.\n"
     ]
    },
    {
     "name": "stderr",
     "output_type": "stream",
     "text": [
      " 50%|█████     | 12146/24282 [1:11:44<1:09:46,  2.90it/s]"
     ]
    },
    {
     "name": "stdout",
     "output_type": "stream",
     "text": [
      "Step: 12145. CrossEntropyLoss: 0.002219. Training Accuracy: 1.000000.\n"
     ]
    },
    {
     "name": "stderr",
     "output_type": "stream",
     "text": [
      " 60%|██████    | 14575/24282 [1:25:43<55:44,  2.90it/s]  "
     ]
    },
    {
     "name": "stdout",
     "output_type": "stream",
     "text": [
      "Step: 14574. CrossEntropyLoss: 0.002823. Training Accuracy: 1.000000.\n"
     ]
    },
    {
     "name": "stderr",
     "output_type": "stream",
     "text": [
      " 70%|███████   | 17004/24282 [1:39:42<41:58,  2.89it/s]"
     ]
    },
    {
     "name": "stdout",
     "output_type": "stream",
     "text": [
      "Step: 17003. CrossEntropyLoss: 0.003857. Training Accuracy: 0.997596.\n"
     ]
    },
    {
     "name": "stderr",
     "output_type": "stream",
     "text": [
      " 80%|████████  | 19433/24282 [1:53:41<27:50,  2.90it/s]"
     ]
    },
    {
     "name": "stdout",
     "output_type": "stream",
     "text": [
      "Step: 19432. CrossEntropyLoss: 0.001458. Training Accuracy: 1.000000.\n"
     ]
    },
    {
     "name": "stderr",
     "output_type": "stream",
     "text": [
      " 90%|█████████ | 21862/24282 [2:07:38<13:54,  2.90it/s]"
     ]
    },
    {
     "name": "stdout",
     "output_type": "stream",
     "text": [
      "Step: 21861. CrossEntropyLoss: 0.002325. Training Accuracy: 1.000000.\n"
     ]
    },
    {
     "name": "stderr",
     "output_type": "stream",
     "text": [
      "100%|██████████| 24282/24282 [2:21:32<00:00,  2.86it/s]\n"
     ]
    },
    {
     "name": "stdout",
     "output_type": "stream",
     "text": [
      "✔ Evaluating test dataset now...\n"
     ]
    },
    {
     "name": "stderr",
     "output_type": "stream",
     "text": [
      "100%|██████████| 2407/2407 [3:03:17<00:00,  4.57s/it]  "
     ]
    },
    {
     "name": "stdout",
     "output_type": "stream",
     "text": [
      "Input Layer 1, Attention Head 1, first 9 states:\n",
      "[ 0.437  -0.0778  0.8803 -0.308  -0.3055  0.2395 -1.2577 -0.3027 -0.4781]\n",
      "Target:  #### 7 1 8 0 $ 7 4 1 1 \n",
      "Predicted:  #### 7 1 8 0 $ 7 4 1 1 \n",
      "\n",
      "Input Layer 1, Attention Head 1, first 9 states:\n",
      "[ 0.437  -0.0778  0.8803 -0.308  -0.3055  0.2395 -1.2577 -0.3027 -0.4781]\n",
      "Target:  #### 0 6 9 3 $ 8 1 5 5 \n",
      "Predicted:  #### 0 6 9 3 $ 8 1 5 5 \n",
      "\n",
      "Input Layer 1, Attention Head 1, first 9 states:\n",
      "[ 0.437  -0.0778  0.8803 -0.308  -0.3055  0.2395 -1.2577 -0.3027 -0.4781]\n",
      "Target:  #### 5 6 7 2 $ 0 9 3 0 \n",
      "Predicted:  #### 5 6 7 2 $ 0 9 3 0 \n",
      "\n",
      "→ Perplexitity: 1.000601; Test Accuracy: 0.996688; Training Accuracy: 0.999745.\n",
      "Saving to c:\\Users\\Luke\\multi_implicit_cot\\models\\mindreading_emulator\n"
     ]
    },
    {
     "name": "stderr",
     "output_type": "stream",
     "text": [
      "\n"
     ]
    },
    {
     "data": {
      "image/png": "[encoded data removed]",
      "text/plain": [
       "<Figure size 640x480 with 1 Axes>"
      ]
     },
     "metadata": {},
     "output_type": "display_data"
    },
    {
     "data": {
      "image/png": "[encoded data removed]",
      "text/plain": [
       "<Figure size 640x480 with 1 Axes>"
      ]
     },
     "metadata": {},
     "output_type": "display_data"
    }
   ],
   "source": [
    "mr_emulator_model.trainModel(train_handler = datahandler_train, test_handler = datahandler_test, limit = 1)"
   ]
  },
  {
   "cell_type": "markdown",
   "metadata": {},
   "source": [
    "##### **Implicit Model**\n",
    "This model takes the input and predicts teacher states, and uses the teacher states to predict the output. The teacher states are used implicitly to mimic CoT reasoning internally. \n",
    "\n",
    "**NOTE** It trains using both a pretrained thought emulator and the mind emulator model, so make sure to train them in order.\n",
    "\n",
    "**NOTE** Also since we trained both emulators so well, it is apparent that it is very unecessary to train this model very much. This is also probably why we had some issues with the gradients (see spikes on the charts), as the loss was so close to zero to begin with. Despite gaining very little training accuracy, we did gain significant testing accuracy! This might indicate that the learning rate of our other models might be a bit lower than ideal."
   ]
  },
  {
   "cell_type": "code",
   "execution_count": 11,
   "metadata": {},
   "outputs": [
    {
     "name": "stderr",
     "output_type": "stream",
     "text": [
      "  0%|          | 1/24282 [00:00<3:41:25,  1.83it/s]"
     ]
    },
    {
     "name": "stdout",
     "output_type": "stream",
     "text": [
      "Step: 0. CrossEntropyLoss: 0.000018. Training Accuracy: 1.000000.\n"
     ]
    },
    {
     "name": "stderr",
     "output_type": "stream",
     "text": [
      " 10%|█         | 2430/24282 [12:38<1:54:04,  3.19it/s]"
     ]
    },
    {
     "name": "stdout",
     "output_type": "stream",
     "text": [
      "Step: 2429. CrossEntropyLoss: 0.000003. Training Accuracy: 1.000000.\n"
     ]
    },
    {
     "name": "stderr",
     "output_type": "stream",
     "text": [
      " 20%|██        | 4859/24282 [25:16<1:40:46,  3.21it/s]"
     ]
    },
    {
     "name": "stdout",
     "output_type": "stream",
     "text": [
      "Step: 4858. CrossEntropyLoss: 0.000001. Training Accuracy: 1.000000.\n"
     ]
    },
    {
     "name": "stderr",
     "output_type": "stream",
     "text": [
      " 30%|███       | 7288/24282 [37:54<1:29:03,  3.18it/s]"
     ]
    },
    {
     "name": "stdout",
     "output_type": "stream",
     "text": [
      "Step: 7287. CrossEntropyLoss: 0.000000. Training Accuracy: 1.000000.\n"
     ]
    },
    {
     "name": "stderr",
     "output_type": "stream",
     "text": [
      " 40%|████      | 9717/24282 [50:36<1:16:01,  3.19it/s]"
     ]
    },
    {
     "name": "stdout",
     "output_type": "stream",
     "text": [
      "Step: 9716. CrossEntropyLoss: 0.000011. Training Accuracy: 1.000000.\n"
     ]
    },
    {
     "name": "stderr",
     "output_type": "stream",
     "text": [
      " 50%|█████     | 12146/24282 [1:03:17<1:03:25,  3.19it/s]"
     ]
    },
    {
     "name": "stdout",
     "output_type": "stream",
     "text": [
      "Step: 12145. CrossEntropyLoss: 0.000003. Training Accuracy: 1.000000.\n"
     ]
    },
    {
     "name": "stderr",
     "output_type": "stream",
     "text": [
      " 60%|██████    | 14575/24282 [1:15:59<50:37,  3.20it/s]  "
     ]
    },
    {
     "name": "stdout",
     "output_type": "stream",
     "text": [
      "Step: 14574. CrossEntropyLoss: 0.000001. Training Accuracy: 1.000000.\n"
     ]
    },
    {
     "name": "stderr",
     "output_type": "stream",
     "text": [
      " 70%|███████   | 17004/24282 [1:28:40<38:02,  3.19it/s]"
     ]
    },
    {
     "name": "stdout",
     "output_type": "stream",
     "text": [
      "Step: 17003. CrossEntropyLoss: 0.000001. Training Accuracy: 1.000000.\n"
     ]
    },
    {
     "name": "stderr",
     "output_type": "stream",
     "text": [
      " 80%|████████  | 19433/24282 [1:41:22<25:17,  3.19it/s]"
     ]
    },
    {
     "name": "stdout",
     "output_type": "stream",
     "text": [
      "Step: 19432. CrossEntropyLoss: 0.000000. Training Accuracy: 1.000000.\n"
     ]
    },
    {
     "name": "stderr",
     "output_type": "stream",
     "text": [
      " 90%|█████████ | 21862/24282 [1:54:04<12:36,  3.20it/s]"
     ]
    },
    {
     "name": "stdout",
     "output_type": "stream",
     "text": [
      "Step: 21861. CrossEntropyLoss: 0.000000. Training Accuracy: 1.000000.\n"
     ]
    },
    {
     "name": "stderr",
     "output_type": "stream",
     "text": [
      "100%|██████████| 24282/24282 [2:06:42<00:00,  3.19it/s]\n"
     ]
    },
    {
     "name": "stdout",
     "output_type": "stream",
     "text": [
      "✔ Evaluating test dataset now...\n"
     ]
    },
    {
     "name": "stderr",
     "output_type": "stream",
     "text": [
      "100%|██████████| 2407/2407 [3:16:03<00:00,  4.89s/it]  "
     ]
    },
    {
     "name": "stdout",
     "output_type": "stream",
     "text": [
      "Input:  3 4 * 9 1 $ 7 3 * 1 3 \n",
      "Target:  #### 7 1 8 0 $ 7 4 1 1 \n",
      "Predicted:  #### 7 1 8 0 $ 7 4 1 1 \n",
      "\n",
      "Input:  5 4 * 8 8 $ 2 6 * 9 8 \n",
      "Target:  #### 0 6 9 3 $ 8 1 5 5 \n",
      "Predicted:  #### 0 6 9 3 $ 8 1 5 5 \n",
      "\n",
      "Input:  9 7 * 5 3 $ 0 3 * 3 1 \n",
      "Target:  #### 5 6 7 2 $ 0 9 3 0 \n",
      "Predicted:  #### 5 6 7 2 $ 0 9 3 0 \n",
      "\n",
      "→ Perplexitity: 1.000000; Test Accuracy: 1.000000; Training Accuracy: 1.000000.\n",
      "Saving to c:\\Users\\Luke\\multi_implicit_cot\\models\\implict_thought_emulator\n"
     ]
    },
    {
     "name": "stderr",
     "output_type": "stream",
     "text": [
      "\n"
     ]
    },
    {
     "name": "stdout",
     "output_type": "stream",
     "text": [
      "Saving to c:\\Users\\Luke\\multi_implicit_cot\\models\\implict_mindreading_emulator\n"
     ]
    },
    {
     "data": {
      "image/png": "[encoded data removed]",
      "text/plain": [
       "<Figure size 640x480 with 1 Axes>"
      ]
     },
     "metadata": {},
     "output_type": "display_data"
    },
    {
     "data": {
      "image/png": "[encoded data removed]",
      "text/plain": [
       "<Figure size 640x480 with 1 Axes>"
      ]
     },
     "metadata": {},
     "output_type": "display_data"
    }
   ],
   "source": [
    "implicit_model.trainModel(train_handler = datahandler_train, test_handler = datahandler_test, limit = 1)"
   ]
  },
  {
   "cell_type": "markdown",
   "metadata": {},
   "source": [
    "### **Prediction Demo**\n",
    "Here we generate our custom test case to see results for each model. We include both the **thought emulator** and **mind reading emulator** to see how well it maps to and from teacher states.\n",
    "\n",
    "---"
   ]
  },
  {
   "cell_type": "code",
   "execution_count": 12,
   "metadata": {},
   "outputs": [
    {
     "name": "stderr",
     "output_type": "stream",
     "text": [
      "100%|██████████| 1/1 [00:00<00:00,  1.25it/s]"
     ]
    },
    {
     "name": "stdout",
     "output_type": "stream",
     "text": [
      "Input:  2 1 * 9 7 $ 5 3 * 3 9 \n",
      "Target:  8 0 1 + 0 4 8 0 $ 5 0 1 + 0 5 1 3  #### 8 4 9 0 $ 5 5 2 3 \n",
      "Predicted:  8 0 1 + 0 4 8 0 $ 5 0 1 + 0 5 1 3  #### 8 4 9 0 $ 5 5 2 3 \n",
      "\n"
     ]
    },
    {
     "name": "stderr",
     "output_type": "stream",
     "text": [
      "\n"
     ]
    }
   ],
   "source": [
    "teacher_model.predict(custom_prediction)"
   ]
  },
  {
   "cell_type": "code",
   "execution_count": 13,
   "metadata": {},
   "outputs": [
    {
     "name": "stderr",
     "output_type": "stream",
     "text": [
      "  0%|          | 0/1 [00:00<?, ?it/s]"
     ]
    },
    {
     "name": "stdout",
     "output_type": "stream",
     "text": [
      "Input:  2 1 * 9 7 $ 5 3 * 3 9  \n",
      "Target Layer 1, Attention Head 1, first 9 states:\n"
     ]
    },
    {
     "name": "stderr",
     "output_type": "stream",
     "text": [
      "100%|██████████| 1/1 [00:00<00:00,  6.42it/s]"
     ]
    },
    {
     "name": "stdout",
     "output_type": "stream",
     "text": [
      "[ 0.437  -0.0778  0.8803 -0.308  -0.3055  0.2395 -1.2577 -0.3027 -0.4781]\n",
      "Predicted Layer 1, Attention Head 1, first 9 states:\n",
      "[ 0.4358 -0.0746  0.8794 -0.3069 -0.3061  0.238  -1.2589 -0.3041 -0.4758]\n"
     ]
    },
    {
     "name": "stderr",
     "output_type": "stream",
     "text": [
      "\n"
     ]
    }
   ],
   "source": [
    "t_emulator_model.predict(custom_prediction)"
   ]
  },
  {
   "cell_type": "code",
   "execution_count": 14,
   "metadata": {},
   "outputs": [
    {
     "name": "stderr",
     "output_type": "stream",
     "text": [
      "  0%|          | 0/1 [00:00<?, ?it/s]"
     ]
    },
    {
     "name": "stdout",
     "output_type": "stream",
     "text": [
      "Input Layer 1, Attention Head 1, first 9 states:\n"
     ]
    },
    {
     "name": "stderr",
     "output_type": "stream",
     "text": [
      "100%|██████████| 1/1 [00:00<00:00,  5.31it/s]"
     ]
    },
    {
     "name": "stdout",
     "output_type": "stream",
     "text": [
      "[ 0.437  -0.0778  0.8803 -0.308  -0.3055  0.2395 -1.2577 -0.3027 -0.4781]\n",
      "Target:  #### 8 4 9 0 $ 5 5 2 3 \n",
      "Predicted:  #### 8 4 9 0 $ 5 5 2 3 \n",
      "\n"
     ]
    },
    {
     "name": "stderr",
     "output_type": "stream",
     "text": [
      "\n"
     ]
    }
   ],
   "source": [
    "mr_emulator_model.predict(custom_prediction)"
   ]
  },
  {
   "cell_type": "code",
   "execution_count": 15,
   "metadata": {},
   "outputs": [
    {
     "name": "stderr",
     "output_type": "stream",
     "text": [
      "100%|██████████| 1/1 [00:00<00:00,  5.25it/s]"
     ]
    },
    {
     "name": "stdout",
     "output_type": "stream",
     "text": [
      "Input:  2 1 * 9 7 $ 5 3 * 3 9 \n",
      "Target:  #### 8 4 9 0 $ 5 5 2 3 \n",
      "Predicted:  #### 8 4 9 0 $ 5 5 2 3 \n",
      "\n"
     ]
    },
    {
     "name": "stderr",
     "output_type": "stream",
     "text": [
      "100%|██████████| 1/1 [00:00<00:00,  5.22it/s]\n"
     ]
    }
   ],
   "source": [
    "implicit_model.predict(custom_prediction)"
   ]
  }
 ],
 "metadata": {
  "kernelspec": {
   "display_name": "Python 3",
   "language": "python",
   "name": "python3"
  },
  "language_info": {
   "codemirror_mode": {
    "name": "ipython",
    "version": 3
   },
   "file_extension": ".py",
   "mimetype": "text/x-python",
   "name": "python",
   "nbconvert_exporter": "python",
   "pygments_lexer": "ipython3",
   "version": "3.10.11"
  }
 },
 "nbformat": 4,
 "nbformat_minor": 2
}
