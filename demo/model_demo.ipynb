{
 "cells": [
  {
   "cell_type": "markdown",
   "metadata": {},
   "source": [
    "# **Multi-inference implicit chain of reasoning (no teacher) demonstration**\n",
    "\n",
    "In this notebook I attempt to solve this challenge [here](https://yuntiandeng.com/cv/challenge.png) by referencing the research paper and source code linked below. We are are trying to create a LLM that can solve simultaneous 2 digit by 2 digit multiplication using implicit chain of thought reasoning. **Instead of using a teacher model, I have the emulators use the actual pure CoT to accomplish similar implicit reasoning via teacher states.**\n",
    "\n",
    "| ||\n",
    "|----------|----------|\n",
    "| Research Credit | [here](https://arxiv.org/pdf/2311.01460.pdf) |\n",
    "| Code Inspiration Credit | [github](https://github.com/da03/implicit_chain_of_thought/tree/main) |\n",
    "\n",
    "- We train a thought emulator model to predict pure CoT from input. \n",
    "- We have a mind reader emulator that predicts the final output from pure CoT.\n",
    "- Finally we create the implicit student model, which trains using pre-trained thought and mindreader emulators simultaneously to implicity use pure CoT to predict the output from the input."
   ]
  },
  {
   "cell_type": "code",
   "execution_count": 1,
   "metadata": {},
   "outputs": [],
   "source": [
    "import sys\n",
    "import os\n",
    "\n",
    "#For safe imports of everything\n",
    "notebook_directory = os.getcwd()\n",
    "parent_directory = os.path.dirname(notebook_directory)\n",
    "sys.path.insert(False, parent_directory)"
   ]
  },
  {
   "cell_type": "markdown",
   "metadata": {},
   "source": [
    "### **Dataset Generation**\n",
    "Here we generate our test and train data. We generate our training data randomly such that it represents less than **1%** of possible observations. We also generate our tokenized data automatically here as well.\n",
    "\n",
    "---\n",
    "\n",
    "The format of training and test datasets follow this format:\n",
    "\n",
    "```\n",
    "[input 1a] $ [input 1b]||[CoT 1a] $ [CoT 1b] #### [output 1a] $ [output 1b]\n",
    "[input 2a] $ [input 2b]||[CoT 2a] $ [CoT 2b] #### [output 2a] $ [output 2b]\n",
    "[input 3a] $ [input 3b]||[CoT 3a] $ [CoT 3b] #### [output 3a] $ [output 3b]\n",
    "```\n",
    "\n",
    "We can also test any particular case using the DatasetHandler so we create a custom prediction dataset as well.\n",
    "\n",
    "**NOTE** The `DatasetHandler` class has a method `generateDataset`, which may be used to create new randomly generated datasets."
   ]
  },
  {
   "cell_type": "code",
   "execution_count": 2,
   "metadata": {},
   "outputs": [],
   "source": [
    "from data.data import DatasetHandler\n",
    "\n",
    "training_data_size = 7770\n",
    "test_data_size = 770\n",
    "\n",
    "datahandler_train = DatasetHandler(parent_path = parent_directory, max_len = 1024, type = 'train')\n",
    "datahandler_test = DatasetHandler(parent_path = parent_directory, max_len = 1024, type = 'test')"
   ]
  },
  {
   "cell_type": "markdown",
   "metadata": {},
   "source": [
    "Now we read datasets for each handler. There is also code to generate a new dataset with the same size used in this demo."
   ]
  },
  {
   "cell_type": "code",
   "execution_count": 3,
   "metadata": {},
   "outputs": [
    {
     "name": "stdout",
     "output_type": "stream",
     "text": [
      "Generated raw train dataset saved at c:\\Users\\Luke\\multi_implicit_cot_noteacher\\data\\raw_train_dataset.txt of size 777000.\n",
      "Creating tokenized features from dataset file at c:\\Users\\Luke\\multi_implicit_cot_noteacher\\data\\raw_train_dataset.txt\n",
      "tgt_avg:  20.0\n",
      "src_avg:  12.0\n",
      "ratios:  0.6\n",
      "tgt_avg:  14.0\n",
      "src_avg:  12.0\n",
      "ratios:  0.8571428571428571\n",
      "---------------------------\n",
      "Example features:\n",
      "Full entry:  1 2 * 4 6 $ 9 8 * 3 4 <|endoftext|> 4 8 0 + 0 6 2 1 $ 7 6 2 + 0 6 5 3 <|endoftext|> #### 4 4 3 1 $ 7 2 8 3 <|endoftext|>\n",
      "No CoT:  1 2 * 4 6 $ 9 8 * 3 4 <|endoftext|> #### 4 4 3 1 $ 7 2 8 3 <|endoftext|>\n",
      "Only CoT:  1 2 * 4 6 $ 9 8 * 3 4 <|endoftext|> 4 8 0 + 0 6 2 1 $ 7 6 2 + 0 6 5 3 <|endoftext|>\n",
      "Product input:  1 2 * 4 6 $ 9 8 * 3 4 <|endoftext|> \n",
      "Pure CoT input:  1 2 * 4 6 $ 9 8 * 3 4 <|endoftext|> 4 8 0 + 0 6 2 1 $ 7 6 2 + 0 6 5 3 <|endoftext|>\n",
      "Pure CoT output:  4 8 0 + 0 6 2 1 $ 7 6 2 + 0 6 5 3 <|endoftext|> #### 4 4 3 1 $ 7 2 8 3 <|endoftext|>\n",
      "---------------------------\n"
     ]
    }
   ],
   "source": [
    "datahandler_train.generateDataset(size = training_data_size)\n",
    "\n",
    "#datahandler_train.readDataset()"
   ]
  },
  {
   "cell_type": "code",
   "execution_count": 4,
   "metadata": {},
   "outputs": [
    {
     "name": "stdout",
     "output_type": "stream",
     "text": [
      "Generated raw test dataset saved at c:\\Users\\Luke\\multi_implicit_cot_noteacher\\data\\raw_test_dataset.txt of size 77000.\n",
      "Creating tokenized features from dataset file at c:\\Users\\Luke\\multi_implicit_cot_noteacher\\data\\raw_test_dataset.txt\n",
      "tgt_avg:  20.0\n",
      "src_avg:  12.0\n",
      "ratios:  0.6\n",
      "tgt_avg:  14.0\n",
      "src_avg:  12.0\n",
      "ratios:  0.8571428571428571\n",
      "---------------------------\n",
      "Example features:\n",
      "Full entry:  2 1 * 1 8 $ 9 7 * 2 0 <|endoftext|> 2 1 0 + 0 6 9 0 $ 8 5 1 + 0 0 0 0 <|endoftext|> #### 2 7 9 0 $ 8 5 1 0 <|endoftext|>\n",
      "No CoT:  2 1 * 1 8 $ 9 7 * 2 0 <|endoftext|> #### 2 7 9 0 $ 8 5 1 0 <|endoftext|>\n",
      "Only CoT:  2 1 * 1 8 $ 9 7 * 2 0 <|endoftext|> 2 1 0 + 0 6 9 0 $ 8 5 1 + 0 0 0 0 <|endoftext|>\n",
      "Product input:  2 1 * 1 8 $ 9 7 * 2 0 <|endoftext|> \n",
      "Pure CoT input:  2 1 * 1 8 $ 9 7 * 2 0 <|endoftext|> 2 1 0 + 0 6 9 0 $ 8 5 1 + 0 0 0 0 <|endoftext|>\n",
      "Pure CoT output:  2 1 0 + 0 6 9 0 $ 8 5 1 + 0 0 0 0 <|endoftext|> #### 2 7 9 0 $ 8 5 1 0 <|endoftext|>\n",
      "---------------------------\n"
     ]
    }
   ],
   "source": [
    "datahandler_test.generateDataset(size = test_data_size)\n",
    "\n",
    "#datahandler_test.readDataset()"
   ]
  },
  {
   "cell_type": "markdown",
   "metadata": {},
   "source": [
    "Here we allow the creation of a **custom prediction** using input from the jupyter kernel, press enter after each integer. The custom prediction is of the form **a*b** and **c*d**."
   ]
  },
  {
   "cell_type": "code",
   "execution_count": 6,
   "metadata": {},
   "outputs": [
    {
     "name": "stdout",
     "output_type": "stream",
     "text": [
      "You have provided the input 13*96 and 73*21 which equals 1248 and 1533 respectively.\n",
      "Generated raw custom dataset saved at c:\\Users\\Luke\\multi_implicit_cot_noteacher\\data\\raw_custom_dataset.txt of size 1.\n",
      "Creating tokenized features from dataset file at c:\\Users\\Luke\\multi_implicit_cot_noteacher\\data\\raw_custom_dataset.txt\n",
      "tgt_avg:  20.0\n",
      "src_avg:  12.0\n",
      "ratios:  0.6\n",
      "tgt_avg:  14.0\n",
      "src_avg:  12.0\n",
      "ratios:  0.8571428571428571\n",
      "---------------------------\n",
      "Example features:\n",
      "Full entry:  3 1 * 6 9 $ 3 7 * 1 2 <|endoftext|> 8 7 0 + 0 7 1 1 $ 3 7 0 + 0 6 4 1 <|endoftext|> #### 8 4 2 1 $ 3 3 5 1 <|endoftext|>\n",
      "No CoT:  3 1 * 6 9 $ 3 7 * 1 2 <|endoftext|> #### 8 4 2 1 $ 3 3 5 1 <|endoftext|>\n",
      "Only CoT:  3 1 * 6 9 $ 3 7 * 1 2 <|endoftext|> 8 7 0 + 0 7 1 1 $ 3 7 0 + 0 6 4 1 <|endoftext|>\n",
      "Product input:  3 1 * 6 9 $ 3 7 * 1 2 <|endoftext|> \n",
      "Pure CoT input:  3 1 * 6 9 $ 3 7 * 1 2 <|endoftext|> 8 7 0 + 0 7 1 1 $ 3 7 0 + 0 6 4 1 <|endoftext|>\n",
      "Pure CoT output:  8 7 0 + 0 7 1 1 $ 3 7 0 + 0 6 4 1 <|endoftext|> #### 8 4 2 1 $ 3 3 5 1 <|endoftext|>\n",
      "---------------------------\n"
     ]
    }
   ],
   "source": [
    "#Please provide inputs for the custom test case. Press enter after each integer.\n",
    "a= int(input(\"provide int a: \"))\n",
    "b= int(input(\"provide int b: \"))\n",
    "c= int(input(\"provide int c: \"))\n",
    "d= int(input(\"provide int d: \"))\n",
    "\n",
    "print(f\"You have provided the input {a}*{b} and {c}*{d} which equals {a*b} and {c*d} respectively.\")\n",
    "\n",
    "custom_prediction = DatasetHandler(parent_path = parent_directory, max_len = 1024, type = 'custom')\n",
    "custom_prediction.generateDataset(a=a, b=b, c=c, d=d)"
   ]
  },
  {
   "cell_type": "markdown",
   "metadata": {},
   "source": [
    "### **Model Training**\n",
    "Here we begin training our individual models. First we import everything we need.\n",
    "\n",
    "---\n"
   ]
  },
  {
   "cell_type": "code",
   "execution_count": 7,
   "metadata": {},
   "outputs": [],
   "source": [
    "from source.thought_emulator import ThoughtEmulator\n",
    "from source.configurations import ThoughtEmulatorConfig\n",
    "\n",
    "from source.mindreading_emulator import MindReadingEmulator\n",
    "from source.configurations import MindReadingEmulatorConfig\n",
    "\n",
    "from source.implicit_student import ImplicitStudent"
   ]
  },
  {
   "cell_type": "markdown",
   "metadata": {},
   "source": [
    "Now we initialize the configurations and models."
   ]
  },
  {
   "cell_type": "code",
   "execution_count": 8,
   "metadata": {},
   "outputs": [],
   "source": [
    "t_emulator_config = ThoughtEmulatorConfig()\n",
    "t_emulator_model = ThoughtEmulator(t_emulator_config)\n",
    "\n",
    "mr_emulator_config = MindReadingEmulatorConfig()\n",
    "mr_emulator_model = MindReadingEmulator(mr_emulator_config)\n",
    "\n",
    "implicit_model = ImplicitStudent(mr_emulator_config, mindread = mr_emulator_model, thought = t_emulator_model)"
   ]
  },
  {
   "cell_type": "markdown",
   "metadata": {},
   "source": [
    "##### **Thought Emulator Model**\n",
    "This model takes the input and predicts the pure CoT."
   ]
  },
  {
   "cell_type": "code",
   "execution_count": 9,
   "metadata": {},
   "outputs": [
    {
     "name": "stderr",
     "output_type": "stream",
     "text": [
      "  0%|          | 1/24282 [00:04<31:41:27,  4.70s/it]"
     ]
    },
    {
     "name": "stdout",
     "output_type": "stream",
     "text": [
      "Step: 0. PPL: 82.330002. Training Accuracy: 0.152961\n"
     ]
    },
    {
     "name": "stderr",
     "output_type": "stream",
     "text": [
      " 10%|█         | 2430/24282 [10:56<1:41:25,  3.59it/s]"
     ]
    },
    {
     "name": "stdout",
     "output_type": "stream",
     "text": [
      "Step: 2429. PPL: 1.004648. Training Accuracy: 0.998355\n"
     ]
    },
    {
     "name": "stderr",
     "output_type": "stream",
     "text": [
      " 20%|██        | 4859/24282 [21:21<1:27:23,  3.70it/s]"
     ]
    },
    {
     "name": "stdout",
     "output_type": "stream",
     "text": [
      "Step: 4858. PPL: 1.001310. Training Accuracy: 1.000000\n"
     ]
    },
    {
     "name": "stderr",
     "output_type": "stream",
     "text": [
      " 30%|███       | 7288/24282 [31:03<1:06:38,  4.25it/s]"
     ]
    },
    {
     "name": "stdout",
     "output_type": "stream",
     "text": [
      "Step: 7287. PPL: 1.000148. Training Accuracy: 1.000000\n"
     ]
    },
    {
     "name": "stderr",
     "output_type": "stream",
     "text": [
      " 40%|████      | 9717/24282 [41:04<57:18,  4.24it/s]  "
     ]
    },
    {
     "name": "stdout",
     "output_type": "stream",
     "text": [
      "Step: 9716. PPL: 1.000137. Training Accuracy: 1.000000\n"
     ]
    },
    {
     "name": "stderr",
     "output_type": "stream",
     "text": [
      " 50%|█████     | 12146/24282 [50:44<47:54,  4.22it/s]  "
     ]
    },
    {
     "name": "stdout",
     "output_type": "stream",
     "text": [
      "Step: 12145. PPL: 1.000024. Training Accuracy: 1.000000\n"
     ]
    },
    {
     "name": "stderr",
     "output_type": "stream",
     "text": [
      " 60%|██████    | 14575/24282 [1:00:43<40:36,  3.98it/s]"
     ]
    },
    {
     "name": "stdout",
     "output_type": "stream",
     "text": [
      "Step: 14574. PPL: 1.000054. Training Accuracy: 1.000000\n"
     ]
    },
    {
     "name": "stderr",
     "output_type": "stream",
     "text": [
      " 70%|███████   | 17004/24282 [1:10:37<28:30,  4.26it/s]"
     ]
    },
    {
     "name": "stdout",
     "output_type": "stream",
     "text": [
      "Step: 17003. PPL: 1.000106. Training Accuracy: 1.000000\n"
     ]
    },
    {
     "name": "stderr",
     "output_type": "stream",
     "text": [
      " 80%|████████  | 19433/24282 [1:20:40<21:21,  3.78it/s]"
     ]
    },
    {
     "name": "stdout",
     "output_type": "stream",
     "text": [
      "Step: 19432. PPL: 1.000077. Training Accuracy: 1.000000\n"
     ]
    },
    {
     "name": "stderr",
     "output_type": "stream",
     "text": [
      " 90%|█████████ | 21862/24282 [1:30:34<10:40,  3.78it/s]"
     ]
    },
    {
     "name": "stdout",
     "output_type": "stream",
     "text": [
      "Step: 21861. PPL: 1.000011. Training Accuracy: 1.000000\n"
     ]
    },
    {
     "name": "stderr",
     "output_type": "stream",
     "text": [
      "100%|██████████| 24282/24282 [1:40:43<00:00,  4.02it/s]\n"
     ]
    },
    {
     "name": "stdout",
     "output_type": "stream",
     "text": [
      "✔ Evaluating test dataset now...\n"
     ]
    },
    {
     "name": "stderr",
     "output_type": "stream",
     "text": [
      "100%|██████████| 2407/2407 [11:10<00:00,  3.59it/s]"
     ]
    },
    {
     "name": "stdout",
     "output_type": "stream",
     "text": [
      "Input:  4 3 * 4 2 $ 3 0 * 9 9 \n",
      "Target:  6 3 1 + 0 8 6 0 $ 7 2 0 + 0 7 2 0 \n",
      "Predicted:  6 3 1 + 0 8 6 0 $ 7 2 0 + 0 7 2 0\n",
      "\n",
      "Input:  2 3 * 6 8 $ 8 6 * 0 6 \n",
      "Target:  2 9 1 + 0 6 5 2 $ 0 0 0 + 0 8 0 4 \n",
      "Predicted:  2 9 1 + 0 6 5 2 $ 0 0 0 + 0 8 0 4\n",
      "\n",
      "Input:  2 1 * 7 2 $ 6 4 * 1 1 \n",
      "Target:  4 8 0 + 0 4 2 0 $ 6 4 0 + 0 6 4 0 \n",
      "Predicted:  4 8 0 + 0 4 2 0 $ 6 4 0 + 0 6 4 0\n",
      "\n",
      "→ PPL: 1.000001; Test Accuracy: 0.999987; Training Accuracy: 0.999999.\n",
      "Saving to c:\\Users\\Luke\\multi_implicit_cot_noteacher\\models\\thought_emulator\n"
     ]
    },
    {
     "name": "stderr",
     "output_type": "stream",
     "text": [
      "\n"
     ]
    },
    {
     "data": {
      "image/png": "[encoded data removed]",
      "text/plain": [
       "<Figure size 640x480 with 1 Axes>"
      ]
     },
     "metadata": {},
     "output_type": "display_data"
    },
    {
     "data": {
      "image/png": "[encoded data removed]",
      "text/plain": [
       "<Figure size 640x480 with 1 Axes>"
      ]
     },
     "metadata": {},
     "output_type": "display_data"
    }
   ],
   "source": [
    "t_emulator_model.trainModel(train_handler = datahandler_train, test_handler = datahandler_test, limit = 1)"
   ]
  },
  {
   "cell_type": "markdown",
   "metadata": {},
   "source": [
    "##### **Mind Reading Emulator Model**\n",
    "This model takes in the pure CoT as input and predicts the output."
   ]
  },
  {
   "cell_type": "code",
   "execution_count": 10,
   "metadata": {},
   "outputs": [
    {
     "name": "stderr",
     "output_type": "stream",
     "text": [
      "  0%|          | 1/24282 [00:00<1:46:56,  3.78it/s]"
     ]
    },
    {
     "name": "stdout",
     "output_type": "stream",
     "text": [
      "Step: 0. PPL: 184.561951. Training Accuracy: 0.149671\n"
     ]
    },
    {
     "name": "stderr",
     "output_type": "stream",
     "text": [
      " 10%|█         | 2430/24282 [09:40<1:25:22,  4.27it/s]"
     ]
    },
    {
     "name": "stdout",
     "output_type": "stream",
     "text": [
      "Step: 2429. PPL: 1.314968. Training Accuracy: 0.906250\n"
     ]
    },
    {
     "name": "stderr",
     "output_type": "stream",
     "text": [
      " 20%|██        | 4859/24282 [19:59<1:15:54,  4.26it/s]"
     ]
    },
    {
     "name": "stdout",
     "output_type": "stream",
     "text": [
      "Step: 4858. PPL: 1.280298. Training Accuracy: 0.907895\n"
     ]
    },
    {
     "name": "stderr",
     "output_type": "stream",
     "text": [
      " 30%|███       | 7288/24282 [29:34<1:06:49,  4.24it/s]"
     ]
    },
    {
     "name": "stdout",
     "output_type": "stream",
     "text": [
      "Step: 7287. PPL: 1.272801. Training Accuracy: 0.902961\n"
     ]
    },
    {
     "name": "stderr",
     "output_type": "stream",
     "text": [
      " 40%|████      | 9717/24282 [39:09<57:17,  4.24it/s]  "
     ]
    },
    {
     "name": "stdout",
     "output_type": "stream",
     "text": [
      "Step: 9716. PPL: 1.226287. Training Accuracy: 0.925987\n"
     ]
    },
    {
     "name": "stderr",
     "output_type": "stream",
     "text": [
      " 50%|█████     | 12146/24282 [48:57<54:19,  3.72it/s] "
     ]
    },
    {
     "name": "stdout",
     "output_type": "stream",
     "text": [
      "Step: 12145. PPL: 1.235076. Training Accuracy: 0.922697\n"
     ]
    },
    {
     "name": "stderr",
     "output_type": "stream",
     "text": [
      " 60%|██████    | 14575/24282 [58:31<38:07,  4.24it/s]"
     ]
    },
    {
     "name": "stdout",
     "output_type": "stream",
     "text": [
      "Step: 14574. PPL: 1.209332. Training Accuracy: 0.924342\n"
     ]
    },
    {
     "name": "stderr",
     "output_type": "stream",
     "text": [
      " 70%|███████   | 17004/24282 [1:08:03<28:36,  4.24it/s]"
     ]
    },
    {
     "name": "stdout",
     "output_type": "stream",
     "text": [
      "Step: 17003. PPL: 1.202766. Training Accuracy: 0.934211\n"
     ]
    },
    {
     "name": "stderr",
     "output_type": "stream",
     "text": [
      " 80%|████████  | 19433/24282 [1:17:35<19:01,  4.25it/s]"
     ]
    },
    {
     "name": "stdout",
     "output_type": "stream",
     "text": [
      "Step: 19432. PPL: 1.168998. Training Accuracy: 0.935855\n"
     ]
    },
    {
     "name": "stderr",
     "output_type": "stream",
     "text": [
      " 90%|█████████ | 21862/24282 [1:27:06<09:29,  4.25it/s]"
     ]
    },
    {
     "name": "stdout",
     "output_type": "stream",
     "text": [
      "Step: 21861. PPL: 1.163876. Training Accuracy: 0.937500\n"
     ]
    },
    {
     "name": "stderr",
     "output_type": "stream",
     "text": [
      "100%|██████████| 24282/24282 [1:36:35<00:00,  4.19it/s]\n"
     ]
    },
    {
     "name": "stdout",
     "output_type": "stream",
     "text": [
      "✔ Evaluating test dataset now...\n"
     ]
    },
    {
     "name": "stderr",
     "output_type": "stream",
     "text": [
      "100%|██████████| 2407/2407 [09:40<00:00,  4.14it/s]"
     ]
    },
    {
     "name": "stdout",
     "output_type": "stream",
     "text": [
      "Input:  6 3 1 + 0 8 6 0 $ 7 2 0 + 0 7 2 0 \n",
      "Target:  #### 6 1 8 0 $ 7 9 2 0 \n",
      "Predicted:  #### 6 1 8 0 $ 7 9 2 0 \n",
      "\n",
      "Input:  2 9 1 + 0 6 5 2 $ 0 0 0 + 0 8 0 4 \n",
      "Target:  #### 2 5 7 2 $ 0 8 0 4 \n",
      "Predicted:  #### 2 5 7 2 $ 0 8 0 4 \n",
      "\n",
      "Input:  4 8 0 + 0 4 2 0 $ 6 4 0 + 0 6 4 0 \n",
      "Target:  #### 4 2 3 0 $ 6 0 5 0 \n",
      "Predicted:  #### 4 2 3 0 $ 6 0 5 0 \n",
      "\n",
      "→ PPL: 1.187181; Test Accuracy: 1.000000. Training Accuracy: 0.930523.\n",
      "Saving to c:\\Users\\Luke\\multi_implicit_cot_noteacher\\models\\thought_emulator\n"
     ]
    },
    {
     "name": "stderr",
     "output_type": "stream",
     "text": [
      "\n"
     ]
    },
    {
     "data": {
      "image/png": "[encoded data removed]",
      "text/plain": [
       "<Figure size 640x480 with 1 Axes>"
      ]
     },
     "metadata": {},
     "output_type": "display_data"
    },
    {
     "data": {
      "image/png": "[encoded data removed]",
      "text/plain": [
       "<Figure size 640x480 with 1 Axes>"
      ]
     },
     "metadata": {},
     "output_type": "display_data"
    }
   ],
   "source": [
    "mr_emulator_model.trainModel(train_handler = datahandler_train, test_handler = datahandler_test, limit = 1)"
   ]
  },
  {
   "cell_type": "markdown",
   "metadata": {},
   "source": [
    "##### **Implicit Model**\n",
    "This model takes the input and predicts the pure CoT, and uses the pure CoT to predict the output. The pure CoT is used implicitly to mimic CoT reasoning internally. \n",
    "\n",
    "**NOTE** It trains using both a pretrained thought emulator and the mind emulator model, so make sure to train them in order."
   ]
  },
  {
   "cell_type": "code",
   "execution_count": 11,
   "metadata": {},
   "outputs": [
    {
     "name": "stderr",
     "output_type": "stream",
     "text": [
      "  0%|          | 1/24282 [00:00<3:08:44,  2.14it/s]"
     ]
    },
    {
     "name": "stdout",
     "output_type": "stream",
     "text": [
      "Step: 0. CrossEntropyLoss: 11.058722. Training Accuracy: 0.288462.\n"
     ]
    },
    {
     "name": "stderr",
     "output_type": "stream",
     "text": [
      " 10%|█         | 2430/24282 [15:21<2:15:20,  2.69it/s]"
     ]
    },
    {
     "name": "stdout",
     "output_type": "stream",
     "text": [
      "Step: 2429. CrossEntropyLoss: 0.353056. Training Accuracy: 0.855769.\n"
     ]
    },
    {
     "name": "stderr",
     "output_type": "stream",
     "text": [
      " 20%|██        | 4859/24282 [31:04<2:01:56,  2.65it/s]"
     ]
    },
    {
     "name": "stdout",
     "output_type": "stream",
     "text": [
      "Step: 4858. CrossEntropyLoss: 0.026925. Training Accuracy: 0.992788.\n"
     ]
    },
    {
     "name": "stderr",
     "output_type": "stream",
     "text": [
      " 30%|███       | 7288/24282 [46:55<1:50:59,  2.55it/s]"
     ]
    },
    {
     "name": "stdout",
     "output_type": "stream",
     "text": [
      "Step: 7287. CrossEntropyLoss: 0.025893. Training Accuracy: 0.992788.\n"
     ]
    },
    {
     "name": "stderr",
     "output_type": "stream",
     "text": [
      " 40%|████      | 9717/24282 [1:02:47<1:35:57,  2.53it/s]"
     ]
    },
    {
     "name": "stdout",
     "output_type": "stream",
     "text": [
      "Step: 9716. CrossEntropyLoss: 0.016346. Training Accuracy: 0.997596.\n"
     ]
    },
    {
     "name": "stderr",
     "output_type": "stream",
     "text": [
      " 50%|█████     | 12146/24282 [1:18:37<1:19:21,  2.55it/s]"
     ]
    },
    {
     "name": "stdout",
     "output_type": "stream",
     "text": [
      "Step: 12145. CrossEntropyLoss: 0.000815. Training Accuracy: 1.000000.\n"
     ]
    },
    {
     "name": "stderr",
     "output_type": "stream",
     "text": [
      " 60%|██████    | 14575/24282 [1:34:21<1:06:38,  2.43it/s]"
     ]
    },
    {
     "name": "stdout",
     "output_type": "stream",
     "text": [
      "Step: 14574. CrossEntropyLoss: 0.002269. Training Accuracy: 1.000000.\n"
     ]
    },
    {
     "name": "stderr",
     "output_type": "stream",
     "text": [
      " 70%|███████   | 17004/24282 [1:50:31<51:18,  2.36it/s]  "
     ]
    },
    {
     "name": "stdout",
     "output_type": "stream",
     "text": [
      "Step: 17003. CrossEntropyLoss: 0.000403. Training Accuracy: 1.000000.\n"
     ]
    },
    {
     "name": "stderr",
     "output_type": "stream",
     "text": [
      " 80%|████████  | 19433/24282 [2:06:55<31:58,  2.53it/s]"
     ]
    },
    {
     "name": "stdout",
     "output_type": "stream",
     "text": [
      "Step: 19432. CrossEntropyLoss: 0.007428. Training Accuracy: 0.997596.\n"
     ]
    },
    {
     "name": "stderr",
     "output_type": "stream",
     "text": [
      " 90%|█████████ | 21862/24282 [2:22:29<15:00,  2.69it/s]"
     ]
    },
    {
     "name": "stdout",
     "output_type": "stream",
     "text": [
      "Step: 21861. CrossEntropyLoss: 0.000127. Training Accuracy: 1.000000.\n"
     ]
    },
    {
     "name": "stderr",
     "output_type": "stream",
     "text": [
      "100%|██████████| 24282/24282 [2:38:15<00:00,  2.56it/s]\n"
     ]
    },
    {
     "name": "stdout",
     "output_type": "stream",
     "text": [
      "✔ Evaluating test dataset now...\n"
     ]
    },
    {
     "name": "stderr",
     "output_type": "stream",
     "text": [
      "100%|██████████| 2407/2407 [15:56<00:00,  2.52it/s]"
     ]
    },
    {
     "name": "stdout",
     "output_type": "stream",
     "text": [
      "Input:  4 3 * 4 2 $ 3 0 * 9 9 \n",
      "Target:  #### 6 1 8 0 $ 7 9 2 0 \n",
      "Predicted:  #### 6 1 8 0 $ 7 9 2 0 \n",
      "\n",
      "Input:  2 3 * 6 8 $ 8 6 * 0 6 \n",
      "Target:  #### 2 5 7 2 $ 0 8 0 4 \n",
      "Predicted:  #### 2 5 7 2 $ 0 8 0 4 \n",
      "\n",
      "Input:  2 1 * 7 2 $ 6 4 * 1 1 \n",
      "Target:  #### 4 2 3 0 $ 6 0 5 0 \n",
      "Predicted:  #### 4 2 3 0 $ 6 0 5 0 \n",
      "\n",
      "→ Perplexitity: 1.001552; Test Accuracy: 0.996429; Training Accuracy: 0.999696.\n",
      "Saving to c:\\Users\\Luke\\multi_implicit_cot_noteacher\\models\\implict_thought_emulator\n"
     ]
    },
    {
     "name": "stderr",
     "output_type": "stream",
     "text": [
      "\n"
     ]
    },
    {
     "name": "stdout",
     "output_type": "stream",
     "text": [
      "Saving to c:\\Users\\Luke\\multi_implicit_cot_noteacher\\models\\implict_mindreading_emulator\n"
     ]
    },
    {
     "data": {
      "image/png": "[encoded data removed]",
      "text/plain": [
       "<Figure size 640x480 with 1 Axes>"
      ]
     },
     "metadata": {},
     "output_type": "display_data"
    },
    {
     "data": {
      "image/png": "[encoded data removed]",
      "text/plain": [
       "<Figure size 640x480 with 1 Axes>"
      ]
     },
     "metadata": {},
     "output_type": "display_data"
    }
   ],
   "source": [
    "implicit_model.trainModel(train_handler = datahandler_train, test_handler = datahandler_test, limit = 1)"
   ]
  },
  {
   "cell_type": "markdown",
   "metadata": {},
   "source": [
    "### **Prediction Demo**\n",
    "Here we generate our custom test case to see results for each model. We include both the **thought emulator** and **mind reading emulator** to see how well it maps to and from teacher states.\n",
    "\n",
    "---"
   ]
  },
  {
   "cell_type": "code",
   "execution_count": 12,
   "metadata": {},
   "outputs": [
    {
     "name": "stderr",
     "output_type": "stream",
     "text": [
      "100%|██████████| 1/1 [00:00<00:00,  3.97it/s]"
     ]
    },
    {
     "name": "stdout",
     "output_type": "stream",
     "text": [
      "Input:  3 1 * 6 9 $ 3 7 * 1 2 \n",
      "Target:  8 7 0 + 0 7 1 1 $ 3 7 0 + 0 6 4 1 \n",
      "Predicted:  8 7 0 + 0 7 1 1 $ 3 7 0 + 0 6 4 1\n",
      "\n"
     ]
    },
    {
     "name": "stderr",
     "output_type": "stream",
     "text": [
      "\n"
     ]
    }
   ],
   "source": [
    "t_emulator_model.predict(custom_prediction)"
   ]
  },
  {
   "cell_type": "code",
   "execution_count": 13,
   "metadata": {},
   "outputs": [
    {
     "name": "stderr",
     "output_type": "stream",
     "text": [
      "100%|██████████| 1/1 [00:00<00:00,  5.36it/s]"
     ]
    },
    {
     "name": "stdout",
     "output_type": "stream",
     "text": [
      "Input:  8 7 0 + 0 7 1 1 $ 3 7 0 + 0 6 4 1 \n",
      "Target:  #### 8 4 2 1 $ 3 3 5 1 \n",
      "Predicted:  #### 0 5 0 $ 8 3 2 0 \n",
      "\n"
     ]
    },
    {
     "name": "stderr",
     "output_type": "stream",
     "text": [
      "100%|██████████| 1/1 [00:00<00:00,  5.36it/s]\n"
     ]
    }
   ],
   "source": [
    "mr_emulator_model.predict(custom_prediction)"
   ]
  },
  {
   "cell_type": "code",
   "execution_count": 14,
   "metadata": {},
   "outputs": [
    {
     "name": "stderr",
     "output_type": "stream",
     "text": [
      "100%|██████████| 1/1 [00:00<00:00,  2.88it/s]"
     ]
    },
    {
     "name": "stdout",
     "output_type": "stream",
     "text": [
      "Input:  3 1 * 6 9 $ 3 7 * 1 2 \n",
      "Target:  #### 8 4 2 1 $ 3 3 5 1 \n",
      "Predicted:  #### 8 4 2 1 $ 3 3 5 1 \n",
      "\n"
     ]
    },
    {
     "name": "stderr",
     "output_type": "stream",
     "text": [
      "\n"
     ]
    }
   ],
   "source": [
    "implicit_model.predict(custom_prediction)"
   ]
  }
 ],
 "metadata": {
  "kernelspec": {
   "display_name": "Python 3",
   "language": "python",
   "name": "python3"
  },
  "language_info": {
   "codemirror_mode": {
    "name": "ipython",
    "version": 3
   },
   "file_extension": ".py",
   "mimetype": "text/x-python",
   "name": "python",
   "nbconvert_exporter": "python",
   "pygments_lexer": "ipython3",
   "version": "3.10.11"
  }
 },
 "nbformat": 4,
 "nbformat_minor": 2
}
